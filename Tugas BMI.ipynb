{
 "cells": [
  {
   "cell_type": "code",
   "execution_count": 23,
   "metadata": {},
   "outputs": [
    {
     "name": "stdout",
     "output_type": "stream",
     "text": [
      "BMI anda = 31.0741580583\n",
      "Moderately obese\n"
     ]
    }
   ],
   "source": [
    "bb = 111.0\n",
    "tb_cm = 189.0\n",
    "tb_m = tb_cm/100\n",
    "bmi = bb/tb_m**2\n",
    "\n",
    "print \"BMI anda =\", bmi\n",
    "if bmi < 15 :\n",
    "    print \"Very severely underweight\"\n",
    "elif bmi >= 15 and bmi <16 :\n",
    "    print \"Severely underweight\"\n",
    "elif bmi >= 16 and bmi <18.5 :\n",
    "    print \"Underweight\"\n",
    "elif bmi >= 18.5 and bmi <25 :\n",
    "    print \"Normal (healthy weight)\"\n",
    "elif bmi >= 25 and bmi <30 :\n",
    "    print \"Overweight\"\n",
    "elif bmi >= 30 and bmi <35 :\n",
    "    print \"Moderately obese\"\n",
    "elif bmi >= 35 and bmi <40 :\n",
    "    print \"Severely obese\"\n",
    "else :\n",
    "    print \"Very severely obese\""
   ]
  }
 ],
 "metadata": {
  "kernelspec": {
   "display_name": "Python 2",
   "language": "python",
   "name": "python2"
  },
  "language_info": {
   "codemirror_mode": {
    "name": "ipython",
    "version": 2
   },
   "file_extension": ".py",
   "mimetype": "text/x-python",
   "name": "python",
   "nbconvert_exporter": "python",
   "pygments_lexer": "ipython2",
   "version": "2.7.15"
  }
 },
 "nbformat": 4,
 "nbformat_minor": 2
}
