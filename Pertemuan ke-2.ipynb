{
 "cells": [
  {
   "cell_type": "markdown",
   "metadata": {},
   "source": [
    "# Perulangan / Looping"
   ]
  },
  {
   "cell_type": "code",
   "execution_count": 3,
   "metadata": {},
   "outputs": [
    {
     "name": "stdout",
     "output_type": "stream",
     "text": [
      "(1, 1)\n",
      "(3, 9)\n",
      "(5, 25)\n",
      "(7, 49)\n",
      "(9, 81)\n"
     ]
    }
   ],
   "source": [
    "# SINTAKS FOR\n",
    "for i in range (1,10,2):\n",
    "    print (i,i**2)"
   ]
  },
  {
   "cell_type": "code",
   "execution_count": 11,
   "metadata": {},
   "outputs": [
    {
     "name": "stdout",
     "output_type": "stream",
     "text": [
      "0\n",
      "1\n",
      "4\n",
      "9\n",
      "16\n"
     ]
    }
   ],
   "source": [
    "#sintaks WHILE\n",
    "i =0\n",
    "while i <5:\n",
    "    print (i**2)\n",
    "    i = i+1"
   ]
  },
  {
   "cell_type": "markdown",
   "metadata": {},
   "source": [
    "# LIST"
   ]
  },
  {
   "cell_type": "code",
   "execution_count": 4,
   "metadata": {},
   "outputs": [
    {
     "name": "stdout",
     "output_type": "stream",
     "text": [
      "[30, 40, 50, 60, 70, 80, 90]\n",
      "['ani', 'budi', 'susi']\n",
      "[1, 2, 'ani', 'budi', 'susi']\n"
     ]
    }
   ],
   "source": [
    "#Deklarasi List\n",
    "#dapat berisi angka\n",
    "nilai = [30,40,50,60,70, 80, 90]\n",
    "print (nilai)\n",
    "\n",
    "#dapat berisi String\n",
    "nama = ['ani','budi','susi']\n",
    "print (nama)\n",
    "\n",
    "#dapat berisi campuran\n",
    "campuran = [1, 2, 'ani','budi','susi']\n",
    "print (campuran)"
   ]
  },
  {
   "cell_type": "markdown",
   "metadata": {},
   "source": [
    "# Menambah Element ke Dalam List"
   ]
  },
  {
   "cell_type": "code",
   "execution_count": 17,
   "metadata": {},
   "outputs": [
    {
     "name": "stdout",
     "output_type": "stream",
     "text": [
      "[30, 40, 50, 60, 70, 80, 90, 100]\n"
     ]
    }
   ],
   "source": [
    "nilai.append (100)\n",
    "print (nilai)"
   ]
  },
  {
   "cell_type": "code",
   "execution_count": 19,
   "metadata": {},
   "outputs": [
    {
     "name": "stdout",
     "output_type": "stream",
     "text": [
      "[30, 40, 50, 60, 70, 80, 90, 100, 10, 20, 30]\n"
     ]
    }
   ],
   "source": [
    "nilai.extend ([10, 20, 30])\n",
    "print(nilai)"
   ]
  },
  {
   "cell_type": "markdown",
   "metadata": {},
   "source": [
    "# Slicing list"
   ]
  },
  {
   "cell_type": "code",
   "execution_count": 20,
   "metadata": {},
   "outputs": [
    {
     "name": "stdout",
     "output_type": "stream",
     "text": [
      "[30, 40, 50, 60, 70, 80, 90, 100, 10, 20, 30]\n",
      "[50, 60, 70]\n",
      "[30, 40, 50, 60, 70, 80, 90, 100, 10]\n",
      "[80, 90, 100, 10, 20, 30]\n",
      "[30, 40, 50, 60, 70, 80, 90, 100, 10, 20, 30]\n"
     ]
    }
   ],
   "source": [
    "print (nilai)\n",
    "\n",
    "print (nilai[2:5])\n",
    "\n",
    "print (nilai[:-2])\n",
    "\n",
    "print (nilai[5:])\n",
    "\n",
    "print (nilai[:])"
   ]
  },
  {
   "cell_type": "markdown",
   "metadata": {},
   "source": [
    "# Perulangan dalam List"
   ]
  },
  {
   "cell_type": "code",
   "execution_count": 24,
   "metadata": {},
   "outputs": [
    {
     "name": "stdout",
     "output_type": "stream",
     "text": [
      "30\n",
      "40\n",
      "50\n",
      "60\n",
      "70\n",
      "80\n",
      "90\n",
      "100\n",
      "10\n",
      "20\n",
      "30\n",
      "(0, 30)\n",
      "(1, 40)\n",
      "(2, 50)\n",
      "(3, 60)\n",
      "(4, 70)\n",
      "(5, 80)\n",
      "(6, 90)\n",
      "(7, 100)\n",
      "(8, 10)\n",
      "(9, 20)\n",
      "(10, 30)\n"
     ]
    }
   ],
   "source": [
    "for n in nilai:\n",
    "    print (n)\n",
    "    \n",
    "#mengikutkan indeksnya\n",
    "for a,b in enumerate (nilai):\n",
    "    print (a,b)"
   ]
  },
  {
   "cell_type": "code",
   "execution_count": 13,
   "metadata": {},
   "outputs": [
    {
     "name": "stdout",
     "output_type": "stream",
     "text": [
      "('total=', 420)\n",
      "60\n"
     ]
    }
   ],
   "source": [
    "#algoritma Rata-rata\n",
    "total = 0\n",
    "for n in nilai:\n",
    "    total = total + n\n",
    "print ('total=',total)\n",
    "\n",
    "rata = total/len(nilai)\n",
    "print(rata)"
   ]
  }
 ],
 "metadata": {
  "kernelspec": {
   "display_name": "Python 2",
   "language": "python",
   "name": "python2"
  },
  "language_info": {
   "codemirror_mode": {
    "name": "ipython",
    "version": 2
   },
   "file_extension": ".py",
   "mimetype": "text/x-python",
   "name": "python",
   "nbconvert_exporter": "python",
   "pygments_lexer": "ipython2",
   "version": "2.7.15"
  }
 },
 "nbformat": 4,
 "nbformat_minor": 2
}
