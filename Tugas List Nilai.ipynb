{
 "cells": [
  {
   "cell_type": "code",
   "execution_count": 4,
   "metadata": {
    "scrolled": true
   },
   "outputs": [
    {
     "name": "stdout",
     "output_type": "stream",
     "text": [
      "[39, 99, 37, 68, 27, 31, 79, 47, 97, 68, 50, 80, 50, 87, 98, 24, 8, 55, 78, 51, 58, 64, 32, 50, 73, 29, 53, 56, 45, 93, 46, 63, 69, 11, 12, 52, 56, 92, 61, 82, 41, 68, 28, 82, 67, 58, 74, 54, 94, 66, 72, 65, 58, 76, 12, 80, 93, 35, 86, 71, 2, 90, 93, 51, 36, 87, 40, 7, 11, 46, 20, 41, 34, 32, 19, 60, 65, 7, 44, 24, 47, 20, 12, 93, 28, 22, 10, 7, 85, 61, 24, 8, 27, 83, 52, 39, 78, 72, 88, 32, 22, 45, 17, 21, 3, 19, 54, 38, 14, 76, 40, 59, 54, 36, 28, 78, 54, 35, 9, 62, 94, 49, 30, 57, 45, 4, 97, 5, 84, 27, 67, 47, 62, 15, 9, 87, 56, 12, 41, 49, 96, 23, 93, 94, 9, 68, 3, 55, 35, 29, 52, 71, 69, 45, 26, 35, 70, 30, 62, 58, 46, 90, 45, 78, 25, 91, 90, 41, 35, 30, 98, 91, 15, 73, 51, 53, 10, 88, 73, 27, 40, 61, 26, 95, 39, 18, 54, 29, 80, 58, 4, 80, 97, 26, 20, 16, 76, 61, 71, 69, 20, 58, 82, 4, 31, 57, 38, 81, 14, 5, 38, 85, 2, 66, 12, 22, 13, 3, 97, 80, 39, 64, 17, 55, 34, 77, 97, 22, 89, 23, 35, 28, 74, 38, 84, 77, 3, 42, 77, 1, 9, 59, 21, 60, 11, 12, 34, 43, 34, 56]\n"
     ]
    }
   ],
   "source": [
    "import random\n",
    "\n",
    "# GENERATE RANDOM\n",
    "nilaitugas = []\n",
    "for i in range(250):\n",
    "    nilaitugas.append(random.randrange(1,100,1))\n",
    "\n",
    "print(nilaitugas)"
   ]
  },
  {
   "cell_type": "code",
   "execution_count": 8,
   "metadata": {},
   "outputs": [
    {
     "name": "stdout",
     "output_type": "stream",
     "text": [
      "[39, 99, 37, 27, 31, 79, 47, 97, 87, 55, 51, 73, 29, 53, 45, 93, 63, 69, 11, 61, 41, 67, 65, 93, 35, 71, 93, 51, 87, 7, 11, 41, 19, 65, 7, 47, 93, 7, 85, 61, 27, 83, 39, 45, 17, 21, 3, 19, 59, 35, 9, 49, 57, 45, 97, 5, 27, 67, 47, 15, 9, 87, 41, 49, 23, 93, 9, 3, 55, 35, 29, 71, 69, 45, 35, 45, 25, 91, 41, 35, 91, 15, 73, 51, 53, 73, 27, 61, 95, 39, 29, 97, 61, 71, 69, 31, 57, 81, 5, 85, 13, 3, 97, 39, 17, 55, 77, 97, 89, 23, 35, 77, 3, 77, 1, 9, 59, 21, 11, 43]\n"
     ]
    }
   ],
   "source": [
    "#menampilkan nilai ganjil\n",
    "a = []\n",
    "for nilai in nilaitugas:\n",
    "    if nilai%2!=0:\n",
    "        a.append(nilai)\n",
    "print (a)"
   ]
  },
  {
   "cell_type": "code",
   "execution_count": 11,
   "metadata": {},
   "outputs": [
    {
     "name": "stdout",
     "output_type": "stream",
     "text": [
      "('jumlah nilai lebih dari 70', 66)\n"
     ]
    }
   ],
   "source": [
    "#menghitung nilai > 70 (belum bisa menghitung)\n",
    "b=[]\n",
    "for nilai in nilaitugas:\n",
    "    if nilai>70:\n",
    "        b.append(nilai)\n",
    "print(\"jumlah nilai lebih dari 70\",len(b))"
   ]
  },
  {
   "cell_type": "code",
   "execution_count": 24,
   "metadata": {},
   "outputs": [
    {
     "name": "stdout",
     "output_type": "stream",
     "text": [
      "('nilai deviasi', 6935.4972424477255)\n"
     ]
    }
   ],
   "source": [
    "import math\n",
    "#menghitung nilai deviasi\n",
    "xi = 0\n",
    "xii = 0\n",
    "n = len(nilaitugas)\n",
    "for c in nilaitugas:\n",
    "    xi = xi+c\n",
    "    xii = xii+(c**2)\n",
    "pangkat=(n*xii)-(xi**2)/n*(n-1)\n",
    "deviasi=math.sqrt(pangkat)\n",
    "print(\"nilai deviasi\",deviasi)    "
   ]
  },
  {
   "cell_type": "code",
   "execution_count": 26,
   "metadata": {},
   "outputs": [
    {
     "name": "stdout",
     "output_type": "stream",
     "text": [
      "('nilai maksimum dari nilai tugas adalah', 99)\n"
     ]
    }
   ],
   "source": [
    "#menghitung nilai maksimum\n",
    "d = max(nilaitugas)\n",
    "print(\"nilai maksimum dari nilai tugas adalah\",d)"
   ]
  },
  {
   "cell_type": "code",
   "execution_count": 27,
   "metadata": {},
   "outputs": [
    {
     "name": "stdout",
     "output_type": "stream",
     "text": [
      "('nilai minimum dari nilai tugas adalah', 1)\n"
     ]
    }
   ],
   "source": [
    "#menghitung nilai maksimum\n",
    "e = min(nilaitugas)\n",
    "print(\"nilai minimum dari nilai tugas adalah\",e)"
   ]
  },
  {
   "cell_type": "code",
   "execution_count": 33,
   "metadata": {},
   "outputs": [
    {
     "name": "stdout",
     "output_type": "stream",
     "text": [
      "('Nilai Modus =', 12)\n"
     ]
    }
   ],
   "source": [
    "#menghitung modus\n",
    "frekwensi={}\n",
    "modus=\" \"\n",
    "for i in nilaitugas:\n",
    "    if i in frekwensi: \n",
    "        frekwensi[i]+=1\n",
    "    else:  \n",
    "        frekwensi[i]=1\n",
    "maks=0\n",
    "for a in frekwensi:\n",
    "    if frekwensi[a]>maks:\n",
    "        maks=frekwensi[a]\n",
    "        modus=a\n",
    "print(\"Nilai Modus =\",modus)"
   ]
  }
 ],
 "metadata": {
  "kernelspec": {
   "display_name": "Python 2",
   "language": "python",
   "name": "python2"
  },
  "language_info": {
   "codemirror_mode": {
    "name": "ipython",
    "version": 2
   },
   "file_extension": ".py",
   "mimetype": "text/x-python",
   "name": "python",
   "nbconvert_exporter": "python",
   "pygments_lexer": "ipython2",
   "version": "2.7.15"
  }
 },
 "nbformat": 4,
 "nbformat_minor": 2
}
