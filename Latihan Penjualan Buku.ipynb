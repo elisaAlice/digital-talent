{
 "cells": [
  {
   "cell_type": "code",
   "execution_count": 10,
   "metadata": {},
   "outputs": [
    {
     "name": "stdout",
     "output_type": "stream",
     "text": [
      "('harga buku setelah diskon=', 60000)\n",
      "('Total ongkir =', 186000)\n",
      "('total harga', 3786000)\n"
     ]
    }
   ],
   "source": [
    "hrg_buku = 100000\n",
    "diskon = 40\n",
    "biaya_kirim1 = 9000\n",
    "biaya_kirim2 = 3000\n",
    "juml_buku = 60\n",
    "hrg_buku2 = hrg_buku * (100-diskon)/100\n",
    "hrg_ongkir = biaya_kirim1 + biaya_kirim2 * (juml_buku-1)\n",
    "harga_total = hrg_buku2*juml_buku + hrg_ongkir\n",
    "\n",
    "print (\"harga buku setelah diskon =\", hrg_buku2)\n",
    "print (\"Total ongkir =\", hrg_ongkir)\n",
    "print (\"total harga =\", harga_total)"
   ]
  }
 ],
 "metadata": {
  "kernelspec": {
   "display_name": "Python 2",
   "language": "python",
   "name": "python2"
  },
  "language_info": {
   "codemirror_mode": {
    "name": "ipython",
    "version": 2
   },
   "file_extension": ".py",
   "mimetype": "text/x-python",
   "name": "python",
   "nbconvert_exporter": "python",
   "pygments_lexer": "ipython2",
   "version": "2.7.15"
  }
 },
 "nbformat": 4,
 "nbformat_minor": 2
}
