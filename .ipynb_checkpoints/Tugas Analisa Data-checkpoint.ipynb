{
 "cells": [
  {
   "cell_type": "markdown",
   "metadata": {},
   "source": [
    "# Tugas Analisa Data\n",
    "Temukan data yang menurut kalian menarik pada http://data.go.id . Buat analisa data yang berisi:\n",
    "1. Deskripsi Data\n",
    "2. Statistik tentang data\n",
    "3. Visualisasi sederhana\n",
    "4. Narasi analisis <br>\n",
    "\n",
    "Buat dalam sebuah Notebook dengan judul Analisa Data X, dimana X adalah Deskripsi Data yang dianalisa. Submit link menuju notebooknya di elisa."
   ]
  },
  {
   "cell_type": "markdown",
   "metadata": {},
   "source": [
    "# 1. Deskripsi Data\n",
    "Disini saya menggunadan tiga data yang diambil dari website data.go.id yaitu\n",
    "## > proporsi-kelahiran-ditolong-tenaga-kesehatan-terlatih-2005-2009.csv\n",
    "\n",
    "Dataset ini berisi mengenai jumlah kelahiran yang dibantu oleh tenaga kesehatan terlatih per kabupaten/kota di tahun 2005-2009\n",
    "Penjelasan mengenai Variabel pada Dataset ini:\n",
    "    - kode_provinsi: Kode Provinsi\n",
    "    - nama_provinsi: Nama Provinsi\n",
    "    - kode_kabkota: Kode Kabupaten/Kota\n",
    "    - nama_kabkota: Nama Kabupaten Kota\n",
    "    - tahun: Tahun\n",
    "    - persen_kelahiran: Jumlah Kelahiran yang dibantu oleh tenaga kesehatan terlatih\n",
    "## > gizi-balita-tinggi-berat-badan-2-2012.csv\n",
    "\n",
    "Dataset ini berisi mengenai status gizi balita berdasarkan tinggi dan berat badan di tahun 2012\n",
    "Penjelasan mengenai Variabel pada Dataset ini:\n",
    "    - kode_provinsi: Kode Provinsi\n",
    "    - nama_provinsi: Nama Provinsi\n",
    "    - status_gizi: Status Gizi (Pendek Kururs, Pendek Normal, Pendek Gemuk,Normal Kurus, Normal Normal, Normal Gemuk)\n",
    "    - persen_status_gizi: Persentase Balita pada Status Gizi tersebut\n",
    "Catatan: Data bersumber dari Badan Litbangkes, Kemenkes RI, Riskesdas 2010\n",
    "\n",
    "**Tujuannya adalah untuk mendapatkan analisa kualitas gizi balita dan korelasinya dengan proses persalinan.**"
   ]
  },
  {
   "cell_type": "markdown",
   "metadata": {},
   "source": [
    "Proses membaca file"
   ]
  },
  {
   "cell_type": "code",
   "execution_count": 62,
   "metadata": {},
   "outputs": [],
   "source": [
    "import pandas as pd\n",
    "\n",
    "data_persalinan = pd.read_csv('proporsi-kelahiran-ditolong-tenaga-kesehatan-terlatih-2005-2009.csv', delimiter = ',', encoding = \"utf-8\")"
   ]
  },
  {
   "cell_type": "markdown",
   "metadata": {},
   "source": [
    "Proses mengambil data hanya di tahun 2009 saja dengan alasan jeda dengan tahun di data satunya (kualitas gizi balita) sesuai (diperkirakan balita di usia 3 tahun=balita)"
   ]
  },
  {
   "cell_type": "code",
   "execution_count": 63,
   "metadata": {},
   "outputs": [],
   "source": [
    "data_persalinan_2009=data_persalinan[data_persalinan['tahun']==2009]"
   ]
  },
  {
   "cell_type": "markdown",
   "metadata": {},
   "source": [
    "Proses meringkas data dengan menampilkan 2 kolom saja"
   ]
  },
  {
   "cell_type": "code",
   "execution_count": 64,
   "metadata": {},
   "outputs": [],
   "source": [
    "data_persalinan_2009_ringkas=data_persalinan_2009[['nama_provinsi','persen_kelahiran']]"
   ]
  },
  {
   "cell_type": "markdown",
   "metadata": {},
   "source": [
    "Proses mengelompokkan data menurut nama provinsi dan menghitung rerata untuk kolom lainnya (persen kelahiran)"
   ]
  },
  {
   "cell_type": "code",
   "execution_count": 88,
   "metadata": {},
   "outputs": [
    {
     "data": {
      "text/html": [
       "<div>\n",
       "<style scoped>\n",
       "    .dataframe tbody tr th:only-of-type {\n",
       "        vertical-align: middle;\n",
       "    }\n",
       "\n",
       "    .dataframe tbody tr th {\n",
       "        vertical-align: top;\n",
       "    }\n",
       "\n",
       "    .dataframe thead th {\n",
       "        text-align: right;\n",
       "    }\n",
       "</style>\n",
       "<table border=\"1\" class=\"dataframe\">\n",
       "  <thead>\n",
       "    <tr style=\"text-align: right;\">\n",
       "      <th></th>\n",
       "      <th>persen_kelahiran</th>\n",
       "    </tr>\n",
       "    <tr>\n",
       "      <th>nama_provinsi</th>\n",
       "      <th></th>\n",
       "    </tr>\n",
       "  </thead>\n",
       "  <tbody>\n",
       "    <tr>\n",
       "      <th>Prov. Bali</th>\n",
       "      <td>88.452222</td>\n",
       "    </tr>\n",
       "    <tr>\n",
       "      <th>Prov. Banten</th>\n",
       "      <td>49.360000</td>\n",
       "    </tr>\n",
       "    <tr>\n",
       "      <th>Prov. Bengkulu</th>\n",
       "      <td>73.438889</td>\n",
       "    </tr>\n",
       "    <tr>\n",
       "      <th>Prov. D I Yogyakarta</th>\n",
       "      <td>93.094000</td>\n",
       "    </tr>\n",
       "    <tr>\n",
       "      <th>Prov. DKI Jakarta</th>\n",
       "      <td>95.455000</td>\n",
       "    </tr>\n",
       "    <tr>\n",
       "      <th>Prov. Gorontalo</th>\n",
       "      <td>46.733333</td>\n",
       "    </tr>\n",
       "    <tr>\n",
       "      <th>Prov. Jambi</th>\n",
       "      <td>47.886000</td>\n",
       "    </tr>\n",
       "    <tr>\n",
       "      <th>Prov. Jawa Barat</th>\n",
       "      <td>57.892692</td>\n",
       "    </tr>\n",
       "    <tr>\n",
       "      <th>Prov. Jawa Tengah</th>\n",
       "      <td>78.896857</td>\n",
       "    </tr>\n",
       "    <tr>\n",
       "      <th>Prov. Jawa Timur</th>\n",
       "      <td>80.602105</td>\n",
       "    </tr>\n",
       "    <tr>\n",
       "      <th>Prov. Kalimantan Barat</th>\n",
       "      <td>34.642143</td>\n",
       "    </tr>\n",
       "    <tr>\n",
       "      <th>Prov. Kalimantan Selatan</th>\n",
       "      <td>51.727692</td>\n",
       "    </tr>\n",
       "    <tr>\n",
       "      <th>Prov. Kalimantan Tengah</th>\n",
       "      <td>49.977857</td>\n",
       "    </tr>\n",
       "    <tr>\n",
       "      <th>Prov. Kalimantan Timur</th>\n",
       "      <td>65.281429</td>\n",
       "    </tr>\n",
       "    <tr>\n",
       "      <th>Prov. Kepulauan Bangka Belitung</th>\n",
       "      <td>69.074286</td>\n",
       "    </tr>\n",
       "    <tr>\n",
       "      <th>Prov. Kepulauan Riau</th>\n",
       "      <td>69.671667</td>\n",
       "    </tr>\n",
       "    <tr>\n",
       "      <th>Prov. Lampung</th>\n",
       "      <td>61.980909</td>\n",
       "    </tr>\n",
       "    <tr>\n",
       "      <th>Prov. Maluku</th>\n",
       "      <td>20.940000</td>\n",
       "    </tr>\n",
       "    <tr>\n",
       "      <th>Prov. Maluku Utara</th>\n",
       "      <td>43.142500</td>\n",
       "    </tr>\n",
       "    <tr>\n",
       "      <th>Prov. Nanggroe Aceh Darussalam</th>\n",
       "      <td>73.860000</td>\n",
       "    </tr>\n",
       "    <tr>\n",
       "      <th>Prov. Nusa Tenggara Barat</th>\n",
       "      <td>57.426667</td>\n",
       "    </tr>\n",
       "    <tr>\n",
       "      <th>Prov. Nusa Tenggara Timur</th>\n",
       "      <td>42.421500</td>\n",
       "    </tr>\n",
       "    <tr>\n",
       "      <th>Prov. Papua</th>\n",
       "      <td>25.655000</td>\n",
       "    </tr>\n",
       "    <tr>\n",
       "      <th>Prov. Papua Barat</th>\n",
       "      <td>45.906667</td>\n",
       "    </tr>\n",
       "    <tr>\n",
       "      <th>Prov. Riau</th>\n",
       "      <td>67.650000</td>\n",
       "    </tr>\n",
       "    <tr>\n",
       "      <th>Prov. Sulawesi Barat</th>\n",
       "      <td>16.221250</td>\n",
       "    </tr>\n",
       "    <tr>\n",
       "      <th>Prov. Sulawesi Selatan</th>\n",
       "      <td>40.951071</td>\n",
       "    </tr>\n",
       "    <tr>\n",
       "      <th>Prov. Sulawesi Tengah</th>\n",
       "      <td>47.847000</td>\n",
       "    </tr>\n",
       "    <tr>\n",
       "      <th>Prov. Sulawesi Tenggara</th>\n",
       "      <td>33.730000</td>\n",
       "    </tr>\n",
       "    <tr>\n",
       "      <th>Prov. Sulawesi Utara</th>\n",
       "      <td>64.469231</td>\n",
       "    </tr>\n",
       "    <tr>\n",
       "      <th>Prov. Sumatera Barat</th>\n",
       "      <td>77.537895</td>\n",
       "    </tr>\n",
       "    <tr>\n",
       "      <th>Prov. Sumatera Selatan</th>\n",
       "      <td>62.782000</td>\n",
       "    </tr>\n",
       "    <tr>\n",
       "      <th>Prov. Sumatera Utara</th>\n",
       "      <td>75.440714</td>\n",
       "    </tr>\n",
       "  </tbody>\n",
       "</table>\n",
       "</div>"
      ],
      "text/plain": [
       "                                 persen_kelahiran\n",
       "nama_provinsi                                    \n",
       "Prov. Bali                              88.452222\n",
       "Prov. Banten                            49.360000\n",
       "Prov. Bengkulu                          73.438889\n",
       "Prov. D I Yogyakarta                    93.094000\n",
       "Prov. DKI Jakarta                       95.455000\n",
       "Prov. Gorontalo                         46.733333\n",
       "Prov. Jambi                             47.886000\n",
       "Prov. Jawa Barat                        57.892692\n",
       "Prov. Jawa Tengah                       78.896857\n",
       "Prov. Jawa Timur                        80.602105\n",
       "Prov. Kalimantan Barat                  34.642143\n",
       "Prov. Kalimantan Selatan                51.727692\n",
       "Prov. Kalimantan Tengah                 49.977857\n",
       "Prov. Kalimantan Timur                  65.281429\n",
       "Prov. Kepulauan Bangka Belitung         69.074286\n",
       "Prov. Kepulauan Riau                    69.671667\n",
       "Prov. Lampung                           61.980909\n",
       "Prov. Maluku                            20.940000\n",
       "Prov. Maluku Utara                      43.142500\n",
       "Prov. Nanggroe Aceh Darussalam          73.860000\n",
       "Prov. Nusa Tenggara Barat               57.426667\n",
       "Prov. Nusa Tenggara Timur               42.421500\n",
       "Prov. Papua                             25.655000\n",
       "Prov. Papua Barat                       45.906667\n",
       "Prov. Riau                              67.650000\n",
       "Prov. Sulawesi Barat                    16.221250\n",
       "Prov. Sulawesi Selatan                  40.951071\n",
       "Prov. Sulawesi Tengah                   47.847000\n",
       "Prov. Sulawesi Tenggara                 33.730000\n",
       "Prov. Sulawesi Utara                    64.469231\n",
       "Prov. Sumatera Barat                    77.537895\n",
       "Prov. Sumatera Selatan                  62.782000\n",
       "Prov. Sumatera Utara                    75.440714"
      ]
     },
     "execution_count": 88,
     "metadata": {},
     "output_type": "execute_result"
    }
   ],
   "source": [
    "data_persalinan_prov=data_persalinan_2009_ringkas.groupby('nama_provinsi').mean()\n",
    "data_persalinan_prov"
   ]
  },
  {
   "cell_type": "markdown",
   "metadata": {},
   "source": [
    "Proses membaca file tentang status gizi balita di 2012"
   ]
  },
  {
   "cell_type": "code",
   "execution_count": 66,
   "metadata": {},
   "outputs": [],
   "source": [
    "data_gizi_balita = pd.read_csv('gizi-balita-tinggi-berat-badan-2-2012.csv', delimiter = ',', encoding = \"utf-8\")"
   ]
  },
  {
   "cell_type": "markdown",
   "metadata": {},
   "source": [
    "Proses mengambil data dengan status gizi terbaik (Normal Normal)"
   ]
  },
  {
   "cell_type": "code",
   "execution_count": 67,
   "metadata": {},
   "outputs": [],
   "source": [
    "data_gizi_balita_normal=data_gizi_balita[data_gizi_balita['status_gizi']=='Normal Normal']"
   ]
  },
  {
   "cell_type": "markdown",
   "metadata": {},
   "source": [
    "Proses meringkas data hanya menampilkan kolom nama provinsi dan persen status gizi"
   ]
  },
  {
   "cell_type": "code",
   "execution_count": 68,
   "metadata": {},
   "outputs": [
    {
     "data": {
      "text/html": [
       "<div>\n",
       "<style scoped>\n",
       "    .dataframe tbody tr th:only-of-type {\n",
       "        vertical-align: middle;\n",
       "    }\n",
       "\n",
       "    .dataframe tbody tr th {\n",
       "        vertical-align: top;\n",
       "    }\n",
       "\n",
       "    .dataframe thead th {\n",
       "        text-align: right;\n",
       "    }\n",
       "</style>\n",
       "<table border=\"1\" class=\"dataframe\">\n",
       "  <thead>\n",
       "    <tr style=\"text-align: right;\">\n",
       "      <th></th>\n",
       "      <th>nama_provinsi</th>\n",
       "      <th>persen_status_gizi</th>\n",
       "    </tr>\n",
       "  </thead>\n",
       "  <tbody>\n",
       "    <tr>\n",
       "      <th>4</th>\n",
       "      <td>Prov. Nanggroe Aceh Darussalam</td>\n",
       "      <td>47.2</td>\n",
       "    </tr>\n",
       "    <tr>\n",
       "      <th>10</th>\n",
       "      <td>Prov. Sumatera Utara</td>\n",
       "      <td>41.4</td>\n",
       "    </tr>\n",
       "    <tr>\n",
       "      <th>16</th>\n",
       "      <td>Prov. Sumatera Barat</td>\n",
       "      <td>59.2</td>\n",
       "    </tr>\n",
       "    <tr>\n",
       "      <th>22</th>\n",
       "      <td>Prov. Riau</td>\n",
       "      <td>46.9</td>\n",
       "    </tr>\n",
       "    <tr>\n",
       "      <th>28</th>\n",
       "      <td>Prov. Jambi</td>\n",
       "      <td>49.6</td>\n",
       "    </tr>\n",
       "    <tr>\n",
       "      <th>34</th>\n",
       "      <td>Prov. Sumatera Selatan</td>\n",
       "      <td>43.9</td>\n",
       "    </tr>\n",
       "    <tr>\n",
       "      <th>40</th>\n",
       "      <td>Prov. Bengkulu</td>\n",
       "      <td>48.1</td>\n",
       "    </tr>\n",
       "    <tr>\n",
       "      <th>46</th>\n",
       "      <td>Prov. Lampung</td>\n",
       "      <td>47.4</td>\n",
       "    </tr>\n",
       "    <tr>\n",
       "      <th>52</th>\n",
       "      <td>Prov. Kepulauan Bangka Belitung</td>\n",
       "      <td>61.0</td>\n",
       "    </tr>\n",
       "    <tr>\n",
       "      <th>58</th>\n",
       "      <td>Prov. Kepulauan Riau</td>\n",
       "      <td>64.3</td>\n",
       "    </tr>\n",
       "    <tr>\n",
       "      <th>64</th>\n",
       "      <td>Prov. DKI Jakarta</td>\n",
       "      <td>54.5</td>\n",
       "    </tr>\n",
       "    <tr>\n",
       "      <th>70</th>\n",
       "      <td>Prov. Jawa Barat</td>\n",
       "      <td>52.7</td>\n",
       "    </tr>\n",
       "    <tr>\n",
       "      <th>76</th>\n",
       "      <td>Prov. Jawa Tengah</td>\n",
       "      <td>49.4</td>\n",
       "    </tr>\n",
       "    <tr>\n",
       "      <th>82</th>\n",
       "      <td>Prov. D I Yogyakarta</td>\n",
       "      <td>61.3</td>\n",
       "    </tr>\n",
       "    <tr>\n",
       "      <th>88</th>\n",
       "      <td>Prov. Jawa Timur</td>\n",
       "      <td>46.4</td>\n",
       "    </tr>\n",
       "    <tr>\n",
       "      <th>94</th>\n",
       "      <td>Prov. Banten</td>\n",
       "      <td>50.6</td>\n",
       "    </tr>\n",
       "    <tr>\n",
       "      <th>100</th>\n",
       "      <td>Prov. Bali</td>\n",
       "      <td>51.9</td>\n",
       "    </tr>\n",
       "    <tr>\n",
       "      <th>106</th>\n",
       "      <td>Prov. Nusa Tenggara Barat</td>\n",
       "      <td>40.1</td>\n",
       "    </tr>\n",
       "    <tr>\n",
       "      <th>112</th>\n",
       "      <td>Prov. Nusa Tenggara Timur</td>\n",
       "      <td>31.9</td>\n",
       "    </tr>\n",
       "    <tr>\n",
       "      <th>118</th>\n",
       "      <td>Prov. Kalimantan Barat</td>\n",
       "      <td>44.4</td>\n",
       "    </tr>\n",
       "    <tr>\n",
       "      <th>124</th>\n",
       "      <td>Prov. Kalimantan Tengah</td>\n",
       "      <td>45.1</td>\n",
       "    </tr>\n",
       "    <tr>\n",
       "      <th>130</th>\n",
       "      <td>Prov. Kalimantan Selatan</td>\n",
       "      <td>49.3</td>\n",
       "    </tr>\n",
       "    <tr>\n",
       "      <th>136</th>\n",
       "      <td>Prov. Kalimantan Timur</td>\n",
       "      <td>55.4</td>\n",
       "    </tr>\n",
       "    <tr>\n",
       "      <th>142</th>\n",
       "      <td>Prov. Sulawesi Utara</td>\n",
       "      <td>62.5</td>\n",
       "    </tr>\n",
       "    <tr>\n",
       "      <th>148</th>\n",
       "      <td>Prov. Sulawesi Tengah</td>\n",
       "      <td>51.9</td>\n",
       "    </tr>\n",
       "    <tr>\n",
       "      <th>154</th>\n",
       "      <td>Prov. Sulawesi Selatan</td>\n",
       "      <td>49.2</td>\n",
       "    </tr>\n",
       "    <tr>\n",
       "      <th>160</th>\n",
       "      <td>Prov. Sulawesi Tenggara</td>\n",
       "      <td>44.0</td>\n",
       "    </tr>\n",
       "    <tr>\n",
       "      <th>166</th>\n",
       "      <td>Prov. Gorontalo</td>\n",
       "      <td>49.6</td>\n",
       "    </tr>\n",
       "    <tr>\n",
       "      <th>172</th>\n",
       "      <td>Prov. Sulawesi Barat</td>\n",
       "      <td>42.9</td>\n",
       "    </tr>\n",
       "    <tr>\n",
       "      <th>178</th>\n",
       "      <td>Prov. Maluku</td>\n",
       "      <td>50.8</td>\n",
       "    </tr>\n",
       "    <tr>\n",
       "      <th>184</th>\n",
       "      <td>Prov. Maluku Utara</td>\n",
       "      <td>52.3</td>\n",
       "    </tr>\n",
       "    <tr>\n",
       "      <th>190</th>\n",
       "      <td>Prov. Papua Barat</td>\n",
       "      <td>38.5</td>\n",
       "    </tr>\n",
       "    <tr>\n",
       "      <th>196</th>\n",
       "      <td>Prov. Papua</td>\n",
       "      <td>54.5</td>\n",
       "    </tr>\n",
       "  </tbody>\n",
       "</table>\n",
       "</div>"
      ],
      "text/plain": [
       "                       nama_provinsi  persen_status_gizi\n",
       "4     Prov. Nanggroe Aceh Darussalam                47.2\n",
       "10              Prov. Sumatera Utara                41.4\n",
       "16              Prov. Sumatera Barat                59.2\n",
       "22                        Prov. Riau                46.9\n",
       "28                       Prov. Jambi                49.6\n",
       "34            Prov. Sumatera Selatan                43.9\n",
       "40                    Prov. Bengkulu                48.1\n",
       "46                     Prov. Lampung                47.4\n",
       "52   Prov. Kepulauan Bangka Belitung                61.0\n",
       "58              Prov. Kepulauan Riau                64.3\n",
       "64                 Prov. DKI Jakarta                54.5\n",
       "70                  Prov. Jawa Barat                52.7\n",
       "76                 Prov. Jawa Tengah                49.4\n",
       "82              Prov. D I Yogyakarta                61.3\n",
       "88                  Prov. Jawa Timur                46.4\n",
       "94                      Prov. Banten                50.6\n",
       "100                       Prov. Bali                51.9\n",
       "106        Prov. Nusa Tenggara Barat                40.1\n",
       "112        Prov. Nusa Tenggara Timur                31.9\n",
       "118           Prov. Kalimantan Barat                44.4\n",
       "124          Prov. Kalimantan Tengah                45.1\n",
       "130         Prov. Kalimantan Selatan                49.3\n",
       "136           Prov. Kalimantan Timur                55.4\n",
       "142             Prov. Sulawesi Utara                62.5\n",
       "148            Prov. Sulawesi Tengah                51.9\n",
       "154           Prov. Sulawesi Selatan                49.2\n",
       "160          Prov. Sulawesi Tenggara                44.0\n",
       "166                  Prov. Gorontalo                49.6\n",
       "172             Prov. Sulawesi Barat                42.9\n",
       "178                     Prov. Maluku                50.8\n",
       "184               Prov. Maluku Utara                52.3\n",
       "190                Prov. Papua Barat                38.5\n",
       "196                      Prov. Papua                54.5"
      ]
     },
     "execution_count": 68,
     "metadata": {},
     "output_type": "execute_result"
    }
   ],
   "source": [
    "data_gizi_balita_normal_ringkas=data_gizi_balita_normal[['nama_provinsi','persen_status_gizi']]\n",
    "data_gizi_balita_normal_ringkas"
   ]
  },
  {
   "cell_type": "markdown",
   "metadata": {},
   "source": [
    "# 2. Statistik tentang Data"
   ]
  },
  {
   "cell_type": "code",
   "execution_count": 107,
   "metadata": {},
   "outputs": [
    {
     "name": "stdout",
     "output_type": "stream",
     "text": [
      "100.0\n"
     ]
    }
   ],
   "source": [
    "data_persalinan_prov.count()\n",
    "data_persalinan.columns\n",
    "a=data_persalinan_2009_ringkas.persen_kelahiran.max()\n",
    "print(a)\n",
    "\n"
   ]
  },
  {
   "cell_type": "markdown",
   "metadata": {},
   "source": [
    "# 3. Visualisasi Data"
   ]
  },
  {
   "cell_type": "code",
   "execution_count": 142,
   "metadata": {},
   "outputs": [
    {
     "data": {
      "text/plain": [
       "Text(0,0.5,'persen persalinan/status gizi')"
      ]
     },
     "execution_count": 142,
     "metadata": {},
     "output_type": "execute_result"
    },
    {
     "data": {
      "image/png": "[encoded data removed]",
      "text/plain": [
       "<Figure size 1080x720 with 1 Axes>"
      ]
     },
     "metadata": {
      "needs_background": "light"
     },
     "output_type": "display_data"
    }
   ],
   "source": [
    "ax = data_persalinan_2009_ringkas.groupby('nama_provinsi').mean()['persen_kelahiran']\n",
    "ax = ax.plot(kind='bar', title =\"Rata-rata \", legend=True, fontsize=12, figsize=(15,10))\n",
    "ax.set_xlabel(\"provinsi\", fontsize=12)\n",
    "ax.set_ylabel(\"persen persalinan/status gizi\", fontsize=12)"
   ]
  },
  {
   "cell_type": "code",
   "execution_count": 143,
   "metadata": {},
   "outputs": [
    {
     "data": {
      "text/plain": [
       "Text(0,0.5,'persentase status gizi balita')"
      ]
     },
     "execution_count": 143,
     "metadata": {},
     "output_type": "execute_result"
    },
    {
     "data": {
      "image/png": "[encoded data removed]",
      "text/plain": [
       "<Figure size 1080x720 with 1 Axes>"
      ]
     },
     "metadata": {
      "needs_background": "light"
     },
     "output_type": "display_data"
    }
   ],
   "source": [
    "ay = data_gizi_balita_normal_ringkas.groupby('nama_provinsi').mean()['persen_status_gizi']\n",
    "ay = ay.plot(kind='bar', title =\"Rata-rata gizi baik pada Balita\", legend=True, fontsize=12, figsize=(15,10))\n",
    "ay.set_xlabel(\"provinsi\", fontsize=12)\n",
    "ay.set_ylabel(\"persentase status gizi balita\", fontsize=12)"
   ]
  },
  {
   "cell_type": "markdown",
   "metadata": {},
   "source": [
    "# 4. Analisis Data\n",
    "dari dua data set di atas diketahui bahwa persalinan yang dibantu tenaga kesehatan terlatih tidak menentukan status gizi balita. Karena faktor yang menentukan gizi balita sangat banyak, termasuk rentang waktu balita juga lama yaitu 5tahun, sehingga keadaan status gizi dapat berubah-ubah sepanjang waktu 5 tahun tersebut. Sedangkan jumlah persentase persalinan yang dibantu oleh tenaga kesehatan terlatih juga memiliki banyak faktor antara lain ketersediaan fasilitas kesehatan dan tenaga yang mendukung."
   ]
  },
  {
   "cell_type": "code",
   "execution_count": null,
   "metadata": {},
   "outputs": [],
   "source": []
  }
 ],
 "metadata": {
  "kernelspec": {
   "display_name": "Python 2",
   "language": "python",
   "name": "python2"
  },
  "language_info": {
   "codemirror_mode": {
    "name": "ipython",
    "version": 2
   },
   "file_extension": ".py",
   "mimetype": "text/x-python",
   "name": "python",
   "nbconvert_exporter": "python",
   "pygments_lexer": "ipython2",
   "version": "2.7.15"
  }
 },
 "nbformat": 4,
 "nbformat_minor": 2
}
