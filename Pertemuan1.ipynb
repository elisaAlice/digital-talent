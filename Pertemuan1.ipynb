{
 "cells": [
  {
   "cell_type": "markdown",
   "metadata": {},
   "source": [
    "# Sintaks Dasar"
   ]
  },
  {
   "cell_type": "code",
   "execution_count": 1,
   "metadata": {},
   "outputs": [
    {
     "name": "stdout",
     "output_type": "stream",
     "text": [
      "hello world\n"
     ]
    }
   ],
   "source": [
    "print(\"hello world\")"
   ]
  },
  {
   "cell_type": "code",
   "execution_count": 3,
   "metadata": {},
   "outputs": [
    {
     "name": "stdout",
     "output_type": "stream",
     "text": [
      "elisa\n"
     ]
    }
   ],
   "source": [
    "nama = \"elisa\"\n",
    "print (nama)"
   ]
  },
  {
   "cell_type": "code",
   "execution_count": 4,
   "metadata": {},
   "outputs": [
    {
     "name": "stdout",
     "output_type": "stream",
     "text": [
      "2\n",
      "0.5\n",
      "elisa\n"
     ]
    }
   ],
   "source": [
    "a, b, c = 2, 0.5, \"elisa\"\n",
    "print (a)\n",
    "print (b)\n",
    "print (c)"
   ]
  },
  {
   "cell_type": "code",
   "execution_count": 5,
   "metadata": {},
   "outputs": [
    {
     "name": "stdout",
     "output_type": "stream",
     "text": [
      "(5, 'mempunyai tipe', <type 'int'>)\n",
      "(5.0, 'mempunyai tipe', <type 'float'>)\n"
     ]
    }
   ],
   "source": [
    "a=5\n",
    "print(a,\"mempunyai tipe\", type(a))\n",
    "a=5.0\n",
    "print(a,\"mempunyai tipe\", type(a))"
   ]
  },
  {
   "cell_type": "code",
   "execution_count": 7,
   "metadata": {},
   "outputs": [
    {
     "name": "stdout",
     "output_type": "stream",
     "text": [
      "(False, 'mempunyai tipe', <type 'bool'>)\n",
      "(True, 'mempunyai tipe', <type 'bool'>)\n"
     ]
    }
   ],
   "source": [
    "a= 5>6\n",
    "print (a,\"mempunyai tipe\", type (a))\n",
    "a= 6>5\n",
    "print (a,\"mempunyai tipe\", type (a))"
   ]
  },
  {
   "cell_type": "code",
   "execution_count": 8,
   "metadata": {},
   "outputs": [
    {
     "name": "stdout",
     "output_type": "stream",
     "text": [
      "('a+b=', 5)\n"
     ]
    }
   ],
   "source": [
    "a = 2\n",
    "b = 3\n",
    "#komentar\n",
    "print ('a+b=', a+b)"
   ]
  },
  {
   "cell_type": "code",
   "execution_count": null,
   "metadata": {},
   "outputs": [],
   "source": [
    "x = 5 == 5\n",
    "y = 1 > 2\n",
    "print ('x and y is', x and y)\n",
    "print ('x or y is', x or y)\n",
    "print ('not x is', not x)"
   ]
  },
  {
   "cell_type": "markdown",
   "metadata": {},
   "source": [
    "# Percabangan"
   ]
  },
  {
   "cell_type": "code",
   "execution_count": 15,
   "metadata": {},
   "outputs": [
    {
     "name": "stdout",
     "output_type": "stream",
     "text": [
      "Anda masuk waiting list\n",
      "program selesai\n"
     ]
    }
   ],
   "source": [
    "nilai = 81 #coba dirubah menjadi 81\n",
    "umur = 18\n",
    "if nilai > 90 :\n",
    "    if umur > 18\n",
    "    print(\"lulus\")\n",
    "    print (\"selamat\")\n",
    "elif nilai > 80 :\n",
    "    print (\"Anda masuk waiting list\")\n",
    "else :\n",
    "    print (\"Maaf Anda Belum Berhasil\")\n",
    "print (\"program selesai\")"
   ]
  }
 ],
 "metadata": {
  "kernelspec": {
   "display_name": "Python 2",
   "language": "python",
   "name": "python2"
  },
  "language_info": {
   "codemirror_mode": {
    "name": "ipython",
    "version": 2
   },
   "file_extension": ".py",
   "mimetype": "text/x-python",
   "name": "python",
   "nbconvert_exporter": "python",
   "pygments_lexer": "ipython2",
   "version": "2.7.15"
  }
 },
 "nbformat": 4,
 "nbformat_minor": 2
}
