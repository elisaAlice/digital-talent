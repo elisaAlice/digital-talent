{
 "cells": [
  {
   "cell_type": "code",
   "execution_count": 6,
   "metadata": {},
   "outputs": [],
   "source": [
    "def hello(m,n,):\n",
    "    for i in range(m):\n",
    "        print(m,n)"
   ]
  },
  {
   "cell_type": "code",
   "execution_count": 7,
   "metadata": {},
   "outputs": [
    {
     "name": "stdout",
     "output_type": "stream",
     "text": [
      "(10, 'apa kabar')\n",
      "(10, 'apa kabar')\n",
      "(10, 'apa kabar')\n",
      "(10, 'apa kabar')\n",
      "(10, 'apa kabar')\n",
      "(10, 'apa kabar')\n",
      "(10, 'apa kabar')\n",
      "(10, 'apa kabar')\n",
      "(10, 'apa kabar')\n",
      "(10, 'apa kabar')\n"
     ]
    }
   ],
   "source": [
    "hello(10,\"apa kabar\")"
   ]
  },
  {
   "cell_type": "markdown",
   "metadata": {},
   "source": [
    "untuk sintaks open, harus selalu dipasangkan dengan close, untuk membersihkan memory di RAM. Ketika sudah di close dia tidak bisa dipanggil kembali"
   ]
  },
  {
   "cell_type": "code",
   "execution_count": 8,
   "metadata": {},
   "outputs": [],
   "source": [
    "f=open('data.txt','w')\n",
    "f.write('hello world \\n')\n",
    "f.write('hello world again \\n')\n",
    "f.write('hello world again and again \\n')\n",
    "f.close()"
   ]
  },
  {
   "cell_type": "code",
   "execution_count": 10,
   "metadata": {},
   "outputs": [
    {
     "name": "stdout",
     "output_type": "stream",
     "text": [
      "hello world \n",
      "hello world again \n",
      "hello world again and again \n",
      "\n"
     ]
    }
   ],
   "source": [
    "fo=open('data.txt','r')\n",
    "print (fo.read())\n",
    "fo.close()"
   ]
  },
  {
   "cell_type": "code",
   "execution_count": 12,
   "metadata": {},
   "outputs": [
    {
     "name": "stdout",
     "output_type": "stream",
     "text": [
      "hello world \n",
      "\n",
      "hello world again \n",
      "\n",
      "hello world again and again \n",
      "\n"
     ]
    }
   ],
   "source": [
    "fo=open('data.txt','r')\n",
    "for line in fo:\n",
    "    #print('====')\n",
    "    print(line)\n",
    "fo.close()"
   ]
  },
  {
   "cell_type": "code",
   "execution_count": 3,
   "metadata": {},
   "outputs": [
    {
     "name": "stdout",
     "output_type": "stream",
     "text": [
      "(4.5, 4.5)\n"
     ]
    }
   ],
   "source": [
    "import statistics as sta\n",
    "a=[1,2,3,4,5,6,7,8]\n",
    "b=sta.mean(a)\n",
    "c=sta.median(a)\n",
    "print(b,c)"
   ]
  },
  {
   "cell_type": "code",
   "execution_count": 11,
   "metadata": {},
   "outputs": [
    {
     "name": "stdout",
     "output_type": "stream",
     "text": [
      "C:\\Users\\MMTC ASUS 2\\LatihanPython\n",
      "=====\n",
      "Bencana \n",
      "=====\n",
      "Kekeringan\n",
      "=====\n",
      "Kekeringan\n",
      "=====\n",
      "Kekeringan\n",
      "=====\n",
      "Kekeringan\n",
      "=====\n",
      "Kekeringan\n",
      "=====\n",
      "Kekeringan\n",
      "=====\n",
      "Kekeringan\n",
      "=====\n",
      "Kekeringan\n",
      "=====\n",
      "Kekeringan\n",
      "=====\n",
      "Kekeringan\n",
      "=====\n",
      "Kekeringan\n",
      "=====\n",
      "Kekeringan\n",
      "=====\n",
      "Kekeringan\n",
      "=====\n",
      "Kekeringan\n",
      "=====\n",
      "Kekeringan\n",
      "=====\n",
      "Kekeringan\n",
      "=====\n",
      "Kekeringan\n",
      "=====\n",
      "Kekeringan\n",
      "=====\n",
      "Kekeringan\n",
      "=====\n",
      "Kekeringan\n",
      "=====\n",
      "Kekeringan\n",
      "=====\n",
      "Kekeringan\n",
      "=====\n",
      "Kekeringan\n"
     ]
    }
   ],
   "source": [
    "import csv, os\n",
    "print(os.getcwd())\n",
    "with open('data-bencana-kekeringan-2012-2013.csv') as csvfile:\n",
    "    my_csv_file = csv.reader(csvfile, delimiter=',', quotechar=\"'\")\n",
    "    for row in my_csv_file:\n",
    "        print('=====')\n",
    "        print(row[1])"
   ]
  },
  {
   "cell_type": "code",
   "execution_count": 27,
   "metadata": {},
   "outputs": [
    {
     "data": {
      "text/html": [
       "<div>\n",
       "<style scoped>\n",
       "    .dataframe tbody tr th:only-of-type {\n",
       "        vertical-align: middle;\n",
       "    }\n",
       "\n",
       "    .dataframe tbody tr th {\n",
       "        vertical-align: top;\n",
       "    }\n",
       "\n",
       "    .dataframe thead th {\n",
       "        text-align: right;\n",
       "    }\n",
       "</style>\n",
       "<table border=\"1\" class=\"dataframe\">\n",
       "  <thead>\n",
       "    <tr style=\"text-align: right;\">\n",
       "      <th></th>\n",
       "      <th>No</th>\n",
       "      <th>Bencana</th>\n",
       "      <th>Tanggal</th>\n",
       "      <th>Jam</th>\n",
       "      <th>Bujur</th>\n",
       "      <th>Lintang</th>\n",
       "      <th>Lokasi</th>\n",
       "      <th>Korban</th>\n",
       "      <th>Kerugian</th>\n",
       "      <th>Keterangan</th>\n",
       "    </tr>\n",
       "  </thead>\n",
       "  <tbody>\n",
       "    <tr>\n",
       "      <th>10</th>\n",
       "      <td>11</td>\n",
       "      <td>Kekeringan</td>\n",
       "      <td>9/16/2013</td>\n",
       "      <td>NaN</td>\n",
       "      <td>108.350</td>\n",
       "      <td>-7.33333</td>\n",
       "      <td>Provinsi Jawa Barat Kab. Ciamis</td>\n",
       "      <td>Pendataan</td>\n",
       "      <td>Sawah mengalami gagal panen</td>\n",
       "      <td>Kronologis : - Disebabkan oleh Musim Kemarau U...</td>\n",
       "    </tr>\n",
       "    <tr>\n",
       "      <th>11</th>\n",
       "      <td>12</td>\n",
       "      <td>Kekeringan</td>\n",
       "      <td>9/15/2013</td>\n",
       "      <td>NaN</td>\n",
       "      <td>109.657</td>\n",
       "      <td>-7.67868</td>\n",
       "      <td>(83 Desa dalam pendataan) Kec. Kebumen Kec. Ka...</td>\n",
       "      <td>Nihil</td>\n",
       "      <td>Kesulitan mencari air bersih di 16 Kecamatan 8...</td>\n",
       "      <td>*Kronologis: -Sejak pertengahan September samp...</td>\n",
       "    </tr>\n",
       "    <tr>\n",
       "      <th>12</th>\n",
       "      <td>13</td>\n",
       "      <td>Kekeringan</td>\n",
       "      <td>9/9/2013</td>\n",
       "      <td>NaN</td>\n",
       "      <td>107.610</td>\n",
       "      <td>-6.91474</td>\n",
       "      <td>Provinsi Jawa Barat Kab. Bandung Kec. Bojong S...</td>\n",
       "      <td>Penduduk di 23 Kecamatan dan 54 Desa/Kelurahan...</td>\n",
       "      <td>Nihil</td>\n",
       "      <td>Kronologis : - Musim Kemarau Upaya : - Bupati ...</td>\n",
       "    </tr>\n",
       "    <tr>\n",
       "      <th>13</th>\n",
       "      <td>14</td>\n",
       "      <td>Kekeringan</td>\n",
       "      <td>9/5/2013</td>\n",
       "      <td>NaN</td>\n",
       "      <td>113.994</td>\n",
       "      <td>-7.70555</td>\n",
       "      <td>Dsn.Krajan Dsn.Jambaran Dsn.Kembang Sari Timur...</td>\n",
       "      <td>Nihil</td>\n",
       "      <td>Nihil</td>\n",
       "      <td>Kondisi Muktahir: -Jarak lokasi ke kota 20 Kmâ...</td>\n",
       "    </tr>\n",
       "    <tr>\n",
       "      <th>14</th>\n",
       "      <td>15</td>\n",
       "      <td>Kekeringan</td>\n",
       "      <td>9/2/2013</td>\n",
       "      <td>-</td>\n",
       "      <td>106.551</td>\n",
       "      <td>-6.98727</td>\n",
       "      <td>Kec. Tegal Buleud Ds. Calincing Kp. Puncak Sob...</td>\n",
       "      <td>Korban Jiwa/Terdampak :  Ds. Pagelaran 700 KK...</td>\n",
       "      <td>Kerugian Materil :  Di Kec. Jampang Kulon, Ds...</td>\n",
       "      <td>Kronologis : Kekeringan terjadi pada akhir Agu...</td>\n",
       "    </tr>\n",
       "  </tbody>\n",
       "</table>\n",
       "</div>"
      ],
      "text/plain": [
       "    No     Bencana    Tanggal  Jam    Bujur   Lintang   \\\n",
       "10   11  Kekeringan  9/16/2013  NaN  108.350  -7.33333   \n",
       "11   12  Kekeringan  9/15/2013  NaN  109.657  -7.67868   \n",
       "12   13  Kekeringan   9/9/2013  NaN  107.610  -6.91474   \n",
       "13   14  Kekeringan   9/5/2013  NaN  113.994  -7.70555   \n",
       "14   15  Kekeringan   9/2/2013    -  106.551  -6.98727   \n",
       "\n",
       "                                              Lokasi   \\\n",
       "10                    Provinsi Jawa Barat Kab. Ciamis   \n",
       "11  (83 Desa dalam pendataan) Kec. Kebumen Kec. Ka...   \n",
       "12  Provinsi Jawa Barat Kab. Bandung Kec. Bojong S...   \n",
       "13  Dsn.Krajan Dsn.Jambaran Dsn.Kembang Sari Timur...   \n",
       "14  Kec. Tegal Buleud Ds. Calincing Kp. Puncak Sob...   \n",
       "\n",
       "                                              Korban   \\\n",
       "10                                          Pendataan   \n",
       "11                                              Nihil   \n",
       "12  Penduduk di 23 Kecamatan dan 54 Desa/Kelurahan...   \n",
       "13                                              Nihil   \n",
       "14  Korban Jiwa/Terdampak :  Ds. Pagelaran 700 KK...   \n",
       "\n",
       "                                            Kerugian   \\\n",
       "10                        Sawah mengalami gagal panen   \n",
       "11  Kesulitan mencari air bersih di 16 Kecamatan 8...   \n",
       "12                                              Nihil   \n",
       "13                                              Nihil   \n",
       "14  Kerugian Materil :  Di Kec. Jampang Kulon, Ds...   \n",
       "\n",
       "                                          Keterangan   \n",
       "10  Kronologis : - Disebabkan oleh Musim Kemarau U...  \n",
       "11  *Kronologis: -Sejak pertengahan September samp...  \n",
       "12  Kronologis : - Musim Kemarau Upaya : - Bupati ...  \n",
       "13  Kondisi Muktahir: -Jarak lokasi ke kota 20 Kmâ...  \n",
       "14  Kronologis : Kekeringan terjadi pada akhir Agu...  "
      ]
     },
     "execution_count": 27,
     "metadata": {},
     "output_type": "execute_result"
    }
   ],
   "source": [
    "import pandas as pd\n",
    "data_kekeringan = pd.read_csv('data-bencana-kekeringan-2012-2013.csv', delimiter = ',', encoding = \"ISO-8859-1\")\n",
    "data_kekeringan.iloc[10:15] #memotong row menurut index"
   ]
  },
  {
   "cell_type": "code",
   "execution_count": 28,
   "metadata": {},
   "outputs": [
    {
     "data": {
      "text/plain": [
       "Index([u'No ', u'Bencana ', u'Tanggal ', u'Jam ', u'Bujur ', u'Lintang ',\n",
       "       u'Lokasi ', u'Korban ', u'Kerugian ', u'Keterangan '],\n",
       "      dtype='object')"
      ]
     },
     "execution_count": 28,
     "metadata": {},
     "output_type": "execute_result"
    }
   ],
   "source": [
    "data_kekeringan.columns #memunculkan nama column"
   ]
  },
  {
   "cell_type": "code",
   "execution_count": 33,
   "metadata": {},
   "outputs": [
    {
     "data": {
      "text/html": [
       "<div>\n",
       "<style scoped>\n",
       "    .dataframe tbody tr th:only-of-type {\n",
       "        vertical-align: middle;\n",
       "    }\n",
       "\n",
       "    .dataframe tbody tr th {\n",
       "        vertical-align: top;\n",
       "    }\n",
       "\n",
       "    .dataframe thead th {\n",
       "        text-align: right;\n",
       "    }\n",
       "</style>\n",
       "<table border=\"1\" class=\"dataframe\">\n",
       "  <thead>\n",
       "    <tr style=\"text-align: right;\">\n",
       "      <th></th>\n",
       "      <th>Bencana</th>\n",
       "      <th>Lokasi</th>\n",
       "    </tr>\n",
       "  </thead>\n",
       "  <tbody>\n",
       "    <tr>\n",
       "      <th>0</th>\n",
       "      <td>Kekeringan</td>\n",
       "      <td>Kampung Laut Kawungaten Kedungmangu Gadingreja...</td>\n",
       "    </tr>\n",
       "    <tr>\n",
       "      <th>1</th>\n",
       "      <td>Kekeringan</td>\n",
       "      <td>Jl. Krmat III Dalam RT. 06 / 08 Kel. Kwitang K...</td>\n",
       "    </tr>\n",
       "    <tr>\n",
       "      <th>2</th>\n",
       "      <td>Kekeringan</td>\n",
       "      <td>Jl. Cibubur, Blok Dukuh, No. 6 RT. 02 / 10 Kel...</td>\n",
       "    </tr>\n",
       "    <tr>\n",
       "      <th>3</th>\n",
       "      <td>Kekeringan</td>\n",
       "      <td>Jl. Kebon Tebu RT. 019 / 17 Kel. Muara Baru Ke...</td>\n",
       "    </tr>\n",
       "    <tr>\n",
       "      <th>4</th>\n",
       "      <td>Kekeringan</td>\n",
       "      <td>Provinsi Jawa Barat Kota Cirebon Kec. Harjamuk...</td>\n",
       "    </tr>\n",
       "    <tr>\n",
       "      <th>5</th>\n",
       "      <td>Kekeringan</td>\n",
       "      <td>Ds. Bujur Barat Ds. Bujur Timur Ds. Ponjanan B...</td>\n",
       "    </tr>\n",
       "    <tr>\n",
       "      <th>6</th>\n",
       "      <td>Kekeringan</td>\n",
       "      <td>Ds. Sruwi Ds. Sumberejo Kec. Winongan Ds. Kara...</td>\n",
       "    </tr>\n",
       "    <tr>\n",
       "      <th>7</th>\n",
       "      <td>Kekeringan</td>\n",
       "      <td>Ds. Sruwi Ds. Sumberejo Kec. Winongan Ds. Kara...</td>\n",
       "    </tr>\n",
       "    <tr>\n",
       "      <th>8</th>\n",
       "      <td>Kekeringan</td>\n",
       "      <td>Kab. Tasikmalaya, Provinsi Jawa Barat</td>\n",
       "    </tr>\n",
       "    <tr>\n",
       "      <th>9</th>\n",
       "      <td>Kekeringan</td>\n",
       "      <td>Provinsi Jawa Barat Kab. Bandung Barat Kec Lem...</td>\n",
       "    </tr>\n",
       "    <tr>\n",
       "      <th>10</th>\n",
       "      <td>Kekeringan</td>\n",
       "      <td>Provinsi Jawa Barat Kab. Ciamis</td>\n",
       "    </tr>\n",
       "    <tr>\n",
       "      <th>11</th>\n",
       "      <td>Kekeringan</td>\n",
       "      <td>(83 Desa dalam pendataan) Kec. Kebumen Kec. Ka...</td>\n",
       "    </tr>\n",
       "    <tr>\n",
       "      <th>12</th>\n",
       "      <td>Kekeringan</td>\n",
       "      <td>Provinsi Jawa Barat Kab. Bandung Kec. Bojong S...</td>\n",
       "    </tr>\n",
       "    <tr>\n",
       "      <th>13</th>\n",
       "      <td>Kekeringan</td>\n",
       "      <td>Dsn.Krajan Dsn.Jambaran Dsn.Kembang Sari Timur...</td>\n",
       "    </tr>\n",
       "    <tr>\n",
       "      <th>14</th>\n",
       "      <td>Kekeringan</td>\n",
       "      <td>Kec. Tegal Buleud Ds. Calincing Kp. Puncak Sob...</td>\n",
       "    </tr>\n",
       "    <tr>\n",
       "      <th>15</th>\n",
       "      <td>Kekeringan</td>\n",
       "      <td>Kec. Nglegok Ds. Sumber Sari Kec. Panggung Rej...</td>\n",
       "    </tr>\n",
       "    <tr>\n",
       "      <th>16</th>\n",
       "      <td>Kekeringan</td>\n",
       "      <td>Ds. Kamal Ds. Pamulihan Kec. Larangan Ds. Peng...</td>\n",
       "    </tr>\n",
       "    <tr>\n",
       "      <th>17</th>\n",
       "      <td>Kekeringan</td>\n",
       "      <td>Kec. Bagelen Kec. Purworejo Kec. Gerabak Kec. ...</td>\n",
       "    </tr>\n",
       "    <tr>\n",
       "      <th>18</th>\n",
       "      <td>Kekeringan</td>\n",
       "      <td>Ds panerusan kulon Ds Panerusan wetan Ds gumel...</td>\n",
       "    </tr>\n",
       "    <tr>\n",
       "      <th>19</th>\n",
       "      <td>Kekeringan</td>\n",
       "      <td>Kec. Ayah Kec. Buayan Kec. Rowokele Kec. Sempo...</td>\n",
       "    </tr>\n",
       "    <tr>\n",
       "      <th>20</th>\n",
       "      <td>Kekeringan</td>\n",
       "      <td>Kec. Simpang Empat, Kab. Banjar, Prov. Kaliman...</td>\n",
       "    </tr>\n",
       "    <tr>\n",
       "      <th>21</th>\n",
       "      <td>Kekeringan</td>\n",
       "      <td>Kab. Probolinggo, Prov. Jawa Timur</td>\n",
       "    </tr>\n",
       "    <tr>\n",
       "      <th>22</th>\n",
       "      <td>Kekeringan</td>\n",
       "      <td>Kec. Gempol dan Lumbang, Kab. Pasuruan, Prov. ...</td>\n",
       "    </tr>\n",
       "  </tbody>\n",
       "</table>\n",
       "</div>"
      ],
      "text/plain": [
       "      Bencana                                             Lokasi \n",
       "0   Kekeringan  Kampung Laut Kawungaten Kedungmangu Gadingreja...\n",
       "1   Kekeringan  Jl. Krmat III Dalam RT. 06 / 08 Kel. Kwitang K...\n",
       "2   Kekeringan  Jl. Cibubur, Blok Dukuh, No. 6 RT. 02 / 10 Kel...\n",
       "3   Kekeringan  Jl. Kebon Tebu RT. 019 / 17 Kel. Muara Baru Ke...\n",
       "4   Kekeringan  Provinsi Jawa Barat Kota Cirebon Kec. Harjamuk...\n",
       "5   Kekeringan  Ds. Bujur Barat Ds. Bujur Timur Ds. Ponjanan B...\n",
       "6   Kekeringan  Ds. Sruwi Ds. Sumberejo Kec. Winongan Ds. Kara...\n",
       "7   Kekeringan  Ds. Sruwi Ds. Sumberejo Kec. Winongan Ds. Kara...\n",
       "8   Kekeringan              Kab. Tasikmalaya, Provinsi Jawa Barat\n",
       "9   Kekeringan  Provinsi Jawa Barat Kab. Bandung Barat Kec Lem...\n",
       "10  Kekeringan                    Provinsi Jawa Barat Kab. Ciamis\n",
       "11  Kekeringan  (83 Desa dalam pendataan) Kec. Kebumen Kec. Ka...\n",
       "12  Kekeringan  Provinsi Jawa Barat Kab. Bandung Kec. Bojong S...\n",
       "13  Kekeringan  Dsn.Krajan Dsn.Jambaran Dsn.Kembang Sari Timur...\n",
       "14  Kekeringan  Kec. Tegal Buleud Ds. Calincing Kp. Puncak Sob...\n",
       "15  Kekeringan  Kec. Nglegok Ds. Sumber Sari Kec. Panggung Rej...\n",
       "16  Kekeringan  Ds. Kamal Ds. Pamulihan Kec. Larangan Ds. Peng...\n",
       "17  Kekeringan  Kec. Bagelen Kec. Purworejo Kec. Gerabak Kec. ...\n",
       "18  Kekeringan  Ds panerusan kulon Ds Panerusan wetan Ds gumel...\n",
       "19  Kekeringan  Kec. Ayah Kec. Buayan Kec. Rowokele Kec. Sempo...\n",
       "20  Kekeringan  Kec. Simpang Empat, Kab. Banjar, Prov. Kaliman...\n",
       "21  Kekeringan                 Kab. Probolinggo, Prov. Jawa Timur\n",
       "22  Kekeringan  Kec. Gempol dan Lumbang, Kab. Pasuruan, Prov. ..."
      ]
     },
     "execution_count": 33,
     "metadata": {},
     "output_type": "execute_result"
    }
   ],
   "source": [
    "data_kekeringan[['Bencana ','Lokasi ']]"
   ]
  },
  {
   "cell_type": "code",
   "execution_count": 34,
   "metadata": {},
   "outputs": [
    {
     "data": {
      "text/html": [
       "<div>\n",
       "<style scoped>\n",
       "    .dataframe tbody tr th:only-of-type {\n",
       "        vertical-align: middle;\n",
       "    }\n",
       "\n",
       "    .dataframe tbody tr th {\n",
       "        vertical-align: top;\n",
       "    }\n",
       "\n",
       "    .dataframe thead th {\n",
       "        text-align: right;\n",
       "    }\n",
       "</style>\n",
       "<table border=\"1\" class=\"dataframe\">\n",
       "  <thead>\n",
       "    <tr style=\"text-align: right;\">\n",
       "      <th></th>\n",
       "      <th>No</th>\n",
       "      <th>Bencana</th>\n",
       "      <th>Tanggal</th>\n",
       "      <th>Jam</th>\n",
       "      <th>Bujur</th>\n",
       "      <th>Lintang</th>\n",
       "      <th>Lokasi</th>\n",
       "      <th>Korban</th>\n",
       "      <th>Kerugian</th>\n",
       "      <th>Keterangan</th>\n",
       "    </tr>\n",
       "  </thead>\n",
       "  <tbody>\n",
       "    <tr>\n",
       "      <th>9</th>\n",
       "      <td>10</td>\n",
       "      <td>Kekeringan</td>\n",
       "      <td>9/16/2013</td>\n",
       "      <td>NaN</td>\n",
       "      <td>107.617</td>\n",
       "      <td>-6.81108</td>\n",
       "      <td>Provinsi Jawa Barat Kab. Bandung Barat Kec Lem...</td>\n",
       "      <td>Penduduk di 16 kecamatan terdampak</td>\n",
       "      <td>Dalam proses pendataan</td>\n",
       "      <td>Kronologis : - Musim Kemarau Upaya : - Bupati ...</td>\n",
       "    </tr>\n",
       "    <tr>\n",
       "      <th>10</th>\n",
       "      <td>11</td>\n",
       "      <td>Kekeringan</td>\n",
       "      <td>9/16/2013</td>\n",
       "      <td>NaN</td>\n",
       "      <td>108.350</td>\n",
       "      <td>-7.33333</td>\n",
       "      <td>Provinsi Jawa Barat Kab. Ciamis</td>\n",
       "      <td>Pendataan</td>\n",
       "      <td>Sawah mengalami gagal panen</td>\n",
       "      <td>Kronologis : - Disebabkan oleh Musim Kemarau U...</td>\n",
       "    </tr>\n",
       "  </tbody>\n",
       "</table>\n",
       "</div>"
      ],
      "text/plain": [
       "    No     Bencana    Tanggal  Jam    Bujur   Lintang   \\\n",
       "9    10  Kekeringan  9/16/2013  NaN  107.617  -6.81108   \n",
       "10   11  Kekeringan  9/16/2013  NaN  108.350  -7.33333   \n",
       "\n",
       "                                              Lokasi   \\\n",
       "9   Provinsi Jawa Barat Kab. Bandung Barat Kec Lem...   \n",
       "10                    Provinsi Jawa Barat Kab. Ciamis   \n",
       "\n",
       "                               Korban                     Kerugian   \\\n",
       "9   Penduduk di 16 kecamatan terdampak       Dalam proses pendataan   \n",
       "10                           Pendataan  Sawah mengalami gagal panen   \n",
       "\n",
       "                                          Keterangan   \n",
       "9   Kronologis : - Musim Kemarau Upaya : - Bupati ...  \n",
       "10  Kronologis : - Disebabkan oleh Musim Kemarau U...  "
      ]
     },
     "execution_count": 34,
     "metadata": {},
     "output_type": "execute_result"
    }
   ],
   "source": [
    "data_kekeringan[data_kekeringan['Tanggal ']=='9/16/2013']"
   ]
  },
  {
   "cell_type": "code",
   "execution_count": 37,
   "metadata": {},
   "outputs": [
    {
     "data": {
      "text/html": [
       "<div>\n",
       "<style scoped>\n",
       "    .dataframe tbody tr th:only-of-type {\n",
       "        vertical-align: middle;\n",
       "    }\n",
       "\n",
       "    .dataframe tbody tr th {\n",
       "        vertical-align: top;\n",
       "    }\n",
       "\n",
       "    .dataframe thead th {\n",
       "        text-align: right;\n",
       "    }\n",
       "</style>\n",
       "<table border=\"1\" class=\"dataframe\">\n",
       "  <thead>\n",
       "    <tr style=\"text-align: right;\">\n",
       "      <th></th>\n",
       "      <th>No</th>\n",
       "      <th>Bencana</th>\n",
       "      <th>Tanggal</th>\n",
       "      <th>Jam</th>\n",
       "      <th>Bujur</th>\n",
       "      <th>Lintang</th>\n",
       "      <th>Lokasi</th>\n",
       "      <th>Korban</th>\n",
       "      <th>Kerugian</th>\n",
       "      <th>Keterangan</th>\n",
       "    </tr>\n",
       "  </thead>\n",
       "  <tbody>\n",
       "    <tr>\n",
       "      <th>10</th>\n",
       "      <td>11</td>\n",
       "      <td>Kekeringan</td>\n",
       "      <td>9/16/2013</td>\n",
       "      <td>NaN</td>\n",
       "      <td>108.35</td>\n",
       "      <td>-7.33333</td>\n",
       "      <td>Provinsi Jawa Barat Kab. Ciamis</td>\n",
       "      <td>Pendataan</td>\n",
       "      <td>Sawah mengalami gagal panen</td>\n",
       "      <td>Kronologis : - Disebabkan oleh Musim Kemarau U...</td>\n",
       "    </tr>\n",
       "  </tbody>\n",
       "</table>\n",
       "</div>"
      ],
      "text/plain": [
       "    No     Bencana    Tanggal  Jam   Bujur   Lintang   \\\n",
       "10   11  Kekeringan  9/16/2013  NaN  108.35  -7.33333   \n",
       "\n",
       "                            Lokasi     Korban                     Kerugian   \\\n",
       "10  Provinsi Jawa Barat Kab. Ciamis  Pendataan  Sawah mengalami gagal panen   \n",
       "\n",
       "                                          Keterangan   \n",
       "10  Kronologis : - Disebabkan oleh Musim Kemarau U...  "
      ]
     },
     "execution_count": 37,
     "metadata": {},
     "output_type": "execute_result"
    }
   ],
   "source": [
    "data_kekeringan.loc[(data_kekeringan['Tanggal ']=='9/16/2013') & (data_kekeringan['Korban ']=='Pendataan')]"
   ]
  },
  {
   "cell_type": "code",
   "execution_count": 4,
   "metadata": {},
   "outputs": [
    {
     "data": {
      "text/html": [
       "<div>\n",
       "<style scoped>\n",
       "    .dataframe tbody tr th:only-of-type {\n",
       "        vertical-align: middle;\n",
       "    }\n",
       "\n",
       "    .dataframe tbody tr th {\n",
       "        vertical-align: top;\n",
       "    }\n",
       "\n",
       "    .dataframe thead th {\n",
       "        text-align: right;\n",
       "    }\n",
       "</style>\n",
       "<table border=\"1\" class=\"dataframe\">\n",
       "  <thead>\n",
       "    <tr style=\"text-align: right;\">\n",
       "      <th></th>\n",
       "      <th>golongan_luas_lahan</th>\n",
       "      <th>tahun</th>\n",
       "      <th>jumlah</th>\n",
       "    </tr>\n",
       "  </thead>\n",
       "  <tbody>\n",
       "    <tr>\n",
       "      <th>0</th>\n",
       "      <td>&lt; 1000</td>\n",
       "      <td>2003</td>\n",
       "      <td>9380300</td>\n",
       "    </tr>\n",
       "    <tr>\n",
       "      <th>1</th>\n",
       "      <td>1000 - 1999</td>\n",
       "      <td>2003</td>\n",
       "      <td>3602348</td>\n",
       "    </tr>\n",
       "    <tr>\n",
       "      <th>2</th>\n",
       "      <td>2000 - 4999</td>\n",
       "      <td>2003</td>\n",
       "      <td>6816943</td>\n",
       "    </tr>\n",
       "    <tr>\n",
       "      <th>3</th>\n",
       "      <td>5000 - 9999</td>\n",
       "      <td>2003</td>\n",
       "      <td>4782812</td>\n",
       "    </tr>\n",
       "    <tr>\n",
       "      <th>4</th>\n",
       "      <td>10000 - 19999</td>\n",
       "      <td>2003</td>\n",
       "      <td>3661529</td>\n",
       "    </tr>\n",
       "    <tr>\n",
       "      <th>5</th>\n",
       "      <td>20000 - 29999</td>\n",
       "      <td>2003</td>\n",
       "      <td>1678356</td>\n",
       "    </tr>\n",
       "    <tr>\n",
       "      <th>6</th>\n",
       "      <td>&gt; 29999</td>\n",
       "      <td>2003</td>\n",
       "      <td>1309896</td>\n",
       "    </tr>\n",
       "    <tr>\n",
       "      <th>7</th>\n",
       "      <td>&lt; 1000</td>\n",
       "      <td>2013</td>\n",
       "      <td>4338847</td>\n",
       "    </tr>\n",
       "    <tr>\n",
       "      <th>8</th>\n",
       "      <td>1000 - 1999</td>\n",
       "      <td>2013</td>\n",
       "      <td>3550185</td>\n",
       "    </tr>\n",
       "    <tr>\n",
       "      <th>9</th>\n",
       "      <td>2000 - 4999</td>\n",
       "      <td>2013</td>\n",
       "      <td>6733364</td>\n",
       "    </tr>\n",
       "    <tr>\n",
       "      <th>10</th>\n",
       "      <td>5000 - 9999</td>\n",
       "      <td>2013</td>\n",
       "      <td>4555075</td>\n",
       "    </tr>\n",
       "    <tr>\n",
       "      <th>11</th>\n",
       "      <td>10000 - 19999</td>\n",
       "      <td>2013</td>\n",
       "      <td>3725865</td>\n",
       "    </tr>\n",
       "    <tr>\n",
       "      <th>12</th>\n",
       "      <td>20000 - 29999</td>\n",
       "      <td>2013</td>\n",
       "      <td>1623434</td>\n",
       "    </tr>\n",
       "    <tr>\n",
       "      <th>13</th>\n",
       "      <td>&gt; 29999</td>\n",
       "      <td>2013</td>\n",
       "      <td>1608699</td>\n",
       "    </tr>\n",
       "  </tbody>\n",
       "</table>\n",
       "</div>"
      ],
      "text/plain": [
       "   golongan_luas_lahan  tahun   jumlah\n",
       "0               < 1000   2003  9380300\n",
       "1          1000 - 1999   2003  3602348\n",
       "2          2000 - 4999   2003  6816943\n",
       "3          5000 - 9999   2003  4782812\n",
       "4        10000 - 19999   2003  3661529\n",
       "5        20000 - 29999   2003  1678356\n",
       "6              > 29999   2003  1309896\n",
       "7               < 1000   2013  4338847\n",
       "8          1000 - 1999   2013  3550185\n",
       "9          2000 - 4999   2013  6733364\n",
       "10         5000 - 9999   2013  4555075\n",
       "11       10000 - 19999   2013  3725865\n",
       "12       20000 - 29999   2013  1623434\n",
       "13             > 29999   2013  1608699"
      ]
     },
     "execution_count": 4,
     "metadata": {},
     "output_type": "execute_result"
    }
   ],
   "source": [
    "import pandas as pd\n",
    "data_pangan = pd.read_csv('processed-rumah-tangga-usaha-tani-per-luas-lahan-2003-2013.csv', delimiter = ',', encoding = \"utf-8\")\n",
    "data_pangan"
   ]
  },
  {
   "cell_type": "code",
   "execution_count": 42,
   "metadata": {},
   "outputs": [
    {
     "data": {
      "text/plain": [
       "golongan_luas_lahan    14\n",
       "tahun                  14\n",
       "jumlah                 14\n",
       "dtype: int64"
      ]
     },
     "execution_count": 42,
     "metadata": {},
     "output_type": "execute_result"
    }
   ],
   "source": [
    "data_pangan.count()"
   ]
  },
  {
   "cell_type": "code",
   "execution_count": 6,
   "metadata": {},
   "outputs": [
    {
     "name": "stdout",
     "output_type": "stream",
     "text": [
      "9380300\n"
     ]
    }
   ],
   "source": [
    "a=data_pangan.jumlah.max()\n",
    "print(a)"
   ]
  },
  {
   "cell_type": "code",
   "execution_count": 46,
   "metadata": {},
   "outputs": [
    {
     "data": {
      "text/html": [
       "<div>\n",
       "<style scoped>\n",
       "    .dataframe tbody tr th:only-of-type {\n",
       "        vertical-align: middle;\n",
       "    }\n",
       "\n",
       "    .dataframe tbody tr th {\n",
       "        vertical-align: top;\n",
       "    }\n",
       "\n",
       "    .dataframe thead th {\n",
       "        text-align: right;\n",
       "    }\n",
       "</style>\n",
       "<table border=\"1\" class=\"dataframe\">\n",
       "  <thead>\n",
       "    <tr style=\"text-align: right;\">\n",
       "      <th></th>\n",
       "      <th>jumlah</th>\n",
       "    </tr>\n",
       "    <tr>\n",
       "      <th>tahun</th>\n",
       "      <th></th>\n",
       "    </tr>\n",
       "  </thead>\n",
       "  <tbody>\n",
       "    <tr>\n",
       "      <th>2003</th>\n",
       "      <td>4.461741e+06</td>\n",
       "    </tr>\n",
       "    <tr>\n",
       "      <th>2013</th>\n",
       "      <td>3.733638e+06</td>\n",
       "    </tr>\n",
       "  </tbody>\n",
       "</table>\n",
       "</div>"
      ],
      "text/plain": [
       "             jumlah\n",
       "tahun              \n",
       "2003   4.461741e+06\n",
       "2013   3.733638e+06"
      ]
     },
     "execution_count": 46,
     "metadata": {},
     "output_type": "execute_result"
    }
   ],
   "source": [
    "data_pangan.groupby('tahun').mean()"
   ]
  },
  {
   "cell_type": "code",
   "execution_count": 9,
   "metadata": {},
   "outputs": [
    {
     "data": {
      "text/plain": [
       "Text(0,0.5,'Jumlah')"
      ]
     },
     "execution_count": 9,
     "metadata": {},
     "output_type": "execute_result"
    },
    {
     "data": {
      "image/png": "[encoded data removed]",
      "text/plain": [
       "<Figure size 432x288 with 1 Axes>"
      ]
     },
     "metadata": {
      "needs_background": "light"
     },
     "output_type": "display_data"
    }
   ],
   "source": [
    "ax = data_pangan\n",
    "ax = ax.plot(kind='kde', title =\"Rata-Rata Berdasarkan Tahun\", legend=True, fontsize=12)\n",
    "ax.set_xlabel(\"Tahun\", fontsize=12)\n",
    "ax.set_ylabel(\"Jumlah\", fontsize=12)"
   ]
  },
  {
   "cell_type": "markdown",
   "metadata": {},
   "source": [
    "Temukan data yang menurut kalian menarik pada data.go.id, buat analisa :\n",
    "1. deskripsi data = narasi dari data awal\n",
    "2. statistik tentang data\n",
    "3. visualisasi sederhana\n",
    "4. narasi analisis (insight)\n",
    "gunakan lebih dari 1 data"
   ]
  }
 ],
 "metadata": {
  "kernelspec": {
   "display_name": "Python 2",
   "language": "python",
   "name": "python2"
  },
  "language_info": {
   "codemirror_mode": {
    "name": "ipython",
    "version": 2
   },
   "file_extension": ".py",
   "mimetype": "text/x-python",
   "name": "python",
   "nbconvert_exporter": "python",
   "pygments_lexer": "ipython2",
   "version": "2.7.15"
  }
 },
 "nbformat": 4,
 "nbformat_minor": 2
}
